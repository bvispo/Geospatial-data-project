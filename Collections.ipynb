{
 "cells": [
  {
   "cell_type": "markdown",
   "id": "8bb23f3e",
   "metadata": {},
   "source": [
    "# 1. Import libraries"
   ]
  },
  {
   "cell_type": "code",
   "execution_count": 2,
   "id": "15bbb696",
   "metadata": {},
   "outputs": [],
   "source": [
    "from pymongo import MongoClient\n",
    "import requests\n",
    "from dotenv import load_dotenv\n",
    "import os\n",
    "import pandas as pd\n",
    "import geopandas as gpd\n",
    "from cartoframes.viz import Map, Layer, popup_element\n",
    "from functools import reduce\n",
    "import operator\n",
    "import json\n",
    "\n",
    "# Importing the madrid functions:\n",
    "import src.geo_functions as gf"
   ]
  },
  {
   "cell_type": "code",
   "execution_count": 3,
   "id": "a175666b",
   "metadata": {},
   "outputs": [
    {
     "data": {
      "text/plain": [
       "True"
      ]
     },
     "execution_count": 3,
     "metadata": {},
     "output_type": "execute_result"
    }
   ],
   "source": [
    "load_dotenv()"
   ]
  },
  {
   "cell_type": "markdown",
   "id": "ace3f7a4",
   "metadata": {},
   "source": [
    "# LONDON"
   ]
  },
  {
   "cell_type": "code",
   "execution_count": 3,
   "id": "ac04d169",
   "metadata": {},
   "outputs": [
    {
     "ename": "NameError",
     "evalue": "name 'gf' is not defined",
     "output_type": "error",
     "traceback": [
      "\u001b[0;31m---------------------------------------------------------------------------\u001b[0m",
      "\u001b[0;31mNameError\u001b[0m                                 Traceback (most recent call last)",
      "\u001b[0;32m<ipython-input-3-9e3a35aa14e9>\u001b[0m in \u001b[0;36m<module>\u001b[0;34m\u001b[0m\n\u001b[0;32m----> 1\u001b[0;31m \u001b[0mlondon\u001b[0m \u001b[0;34m=\u001b[0m \u001b[0mgf\u001b[0m\u001b[0;34m.\u001b[0m\u001b[0mgeocode\u001b[0m\u001b[0;34m(\u001b[0m\u001b[0;34m\"St Paul´s Cathedral, London\"\u001b[0m\u001b[0;34m)\u001b[0m\u001b[0;34m\u001b[0m\u001b[0;34m\u001b[0m\u001b[0m\n\u001b[0m",
      "\u001b[0;31mNameError\u001b[0m: name 'gf' is not defined"
     ]
    }
   ],
   "source": [
    "london = gf.geocode(\"St Paul´s Cathedral, London\")"
   ]
  },
  {
   "cell_type": "code",
   "execution_count": 2,
   "id": "435aae29",
   "metadata": {},
   "outputs": [
    {
     "ename": "NameError",
     "evalue": "name 'london' is not defined",
     "output_type": "error",
     "traceback": [
      "\u001b[0;31m---------------------------------------------------------------------------\u001b[0m",
      "\u001b[0;31mNameError\u001b[0m                                 Traceback (most recent call last)",
      "\u001b[0;32m<ipython-input-2-86eca1fc13ee>\u001b[0m in \u001b[0;36m<module>\u001b[0;34m\u001b[0m\n\u001b[0;32m----> 1\u001b[0;31m \u001b[0mlondon\u001b[0m\u001b[0;34m\u001b[0m\u001b[0;34m\u001b[0m\u001b[0m\n\u001b[0m",
      "\u001b[0;31mNameError\u001b[0m: name 'london' is not defined"
     ]
    }
   ],
   "source": [
    "london"
   ]
  },
  {
   "cell_type": "markdown",
   "id": "8872d72f",
   "metadata": {},
   "source": [
    "### STARBUCKS"
   ]
  },
  {
   "cell_type": "code",
   "execution_count": 5,
   "id": "d93e50ec",
   "metadata": {},
   "outputs": [],
   "source": [
    "london_starbucks = gf.places_cities(\"Starbucks\", london)"
   ]
  },
  {
   "cell_type": "code",
   "execution_count": 6,
   "id": "81381dbf",
   "metadata": {},
   "outputs": [],
   "source": [
    "london_starbucks_df = gf.build_df(london_starbucks)"
   ]
  },
  {
   "cell_type": "code",
   "execution_count": 7,
   "id": "54f506f9",
   "metadata": {},
   "outputs": [],
   "source": [
    "london_starbucks_json = gf.build_json(\"Starbucks\", \"London\", london_starbucks)"
   ]
  },
  {
   "cell_type": "markdown",
   "id": "62467e63",
   "metadata": {},
   "source": [
    "### TRAIN STATION"
   ]
  },
  {
   "cell_type": "code",
   "execution_count": 8,
   "id": "ea230ea7",
   "metadata": {},
   "outputs": [],
   "source": [
    "london_train = gf.places_cities(\"Train Station\", london)"
   ]
  },
  {
   "cell_type": "code",
   "execution_count": 9,
   "id": "796bc340",
   "metadata": {},
   "outputs": [],
   "source": [
    "london_train_df = gf.build_df(london_train)"
   ]
  },
  {
   "cell_type": "code",
   "execution_count": 10,
   "id": "cbf4fcfd",
   "metadata": {},
   "outputs": [],
   "source": [
    "london_train_json = gf.build_json(\"Stations\", \"London\", london_train)"
   ]
  },
  {
   "cell_type": "markdown",
   "id": "11b331a0",
   "metadata": {},
   "source": [
    "### PRESCHOOL"
   ]
  },
  {
   "cell_type": "code",
   "execution_count": 11,
   "id": "3e208b4a",
   "metadata": {},
   "outputs": [],
   "source": [
    "london_preschool = gf.places_cities(\"Preschool\", london)"
   ]
  },
  {
   "cell_type": "code",
   "execution_count": 12,
   "id": "39360252",
   "metadata": {},
   "outputs": [],
   "source": [
    "london_preschool_df = gf.build_df(london_preschool)"
   ]
  },
  {
   "cell_type": "code",
   "execution_count": 13,
   "id": "0e595f72",
   "metadata": {},
   "outputs": [],
   "source": [
    "london_preschool_json = gf.build_json(\"Preschool\", \"London\", london_preschool)"
   ]
  },
  {
   "cell_type": "markdown",
   "id": "44c44dea",
   "metadata": {},
   "source": [
    "### BARS"
   ]
  },
  {
   "cell_type": "code",
   "execution_count": 14,
   "id": "4ecac31d",
   "metadata": {},
   "outputs": [],
   "source": [
    "london_bars = gf.places_cities(\"Bar\", london)"
   ]
  },
  {
   "cell_type": "code",
   "execution_count": 15,
   "id": "da3dfcf4",
   "metadata": {},
   "outputs": [],
   "source": [
    "london_bars_df = gf.build_df(london_bars)"
   ]
  },
  {
   "cell_type": "code",
   "execution_count": 16,
   "id": "9866c57a",
   "metadata": {},
   "outputs": [],
   "source": [
    "london_bars_json = gf.build_json(\"Bars\", \"London\", london_bars)"
   ]
  },
  {
   "cell_type": "markdown",
   "id": "bcc5100f",
   "metadata": {},
   "source": [
    "# MADRID"
   ]
  },
  {
   "cell_type": "code",
   "execution_count": 6,
   "id": "71114795",
   "metadata": {},
   "outputs": [],
   "source": [
    "madrid = gf.geocode(\"Paseo de la Castellana, Madrid\")"
   ]
  },
  {
   "cell_type": "code",
   "execution_count": 7,
   "id": "b61bbfd9",
   "metadata": {},
   "outputs": [
    {
     "data": {
      "text/plain": [
       "{'type': 'Point', 'coordinates': ['40.46879', '-3.68915']}"
      ]
     },
     "execution_count": 7,
     "metadata": {},
     "output_type": "execute_result"
    }
   ],
   "source": [
    "madrid"
   ]
  },
  {
   "cell_type": "markdown",
   "id": "61d732a4",
   "metadata": {},
   "source": [
    "### STARBUCKS"
   ]
  },
  {
   "cell_type": "code",
   "execution_count": 19,
   "id": "ed448b19",
   "metadata": {},
   "outputs": [],
   "source": [
    "madrid_starbucks = gf.places_cities(\"Starbucks\", madrid)"
   ]
  },
  {
   "cell_type": "code",
   "execution_count": 20,
   "id": "5a2ba876",
   "metadata": {},
   "outputs": [],
   "source": [
    "madrid_starbucks_df = gf.build_df(madrid_starbucks)"
   ]
  },
  {
   "cell_type": "code",
   "execution_count": 21,
   "id": "25f92b39",
   "metadata": {},
   "outputs": [],
   "source": [
    "madrid_starbucks_json = gf.build_json(\"Starbucks\", \"Madrid\", madrid_starbucks)"
   ]
  },
  {
   "cell_type": "markdown",
   "id": "5ff76ac8",
   "metadata": {},
   "source": [
    "### TRAIN STATION"
   ]
  },
  {
   "cell_type": "code",
   "execution_count": 8,
   "id": "183e2091",
   "metadata": {},
   "outputs": [],
   "source": [
    "madrid_train = gf.places_cities(\"Estación de Madrid\", madrid)"
   ]
  },
  {
   "cell_type": "code",
   "execution_count": 9,
   "id": "97a3034a",
   "metadata": {},
   "outputs": [],
   "source": [
    "madrid_train_df = gf.build_df(madrid_train)"
   ]
  },
  {
   "cell_type": "code",
   "execution_count": 10,
   "id": "5c7bfd34",
   "metadata": {},
   "outputs": [],
   "source": [
    "madrid_train_json = gf.build_json(\"Stations\", \"Madrid\", madrid_train)"
   ]
  },
  {
   "cell_type": "markdown",
   "id": "076587f2",
   "metadata": {},
   "source": [
    "### PRESCHOOL"
   ]
  },
  {
   "cell_type": "code",
   "execution_count": 25,
   "id": "6c2ad01e",
   "metadata": {},
   "outputs": [],
   "source": [
    "madrid_preschool = gf.places_cities(\"Guardería\", madrid)"
   ]
  },
  {
   "cell_type": "code",
   "execution_count": 26,
   "id": "083f1b1c",
   "metadata": {},
   "outputs": [],
   "source": [
    "madrid_preschool_df = gf.build_df(madrid_preschool)"
   ]
  },
  {
   "cell_type": "code",
   "execution_count": 27,
   "id": "0f994fce",
   "metadata": {},
   "outputs": [],
   "source": [
    "madrid_preschool_json = gf.build_json(\"Preschool\", \"Madrid\", madrid_preschool)"
   ]
  },
  {
   "cell_type": "markdown",
   "id": "a8c3af0c",
   "metadata": {},
   "source": [
    "### BARS"
   ]
  },
  {
   "cell_type": "code",
   "execution_count": 28,
   "id": "cc07d3b1",
   "metadata": {},
   "outputs": [],
   "source": [
    "madrid_bars = gf.places_cities(\"Bar\", madrid)"
   ]
  },
  {
   "cell_type": "code",
   "execution_count": 29,
   "id": "a7f5f355",
   "metadata": {},
   "outputs": [],
   "source": [
    "madrid_bars_df = gf.build_df(madrid_bars)"
   ]
  },
  {
   "cell_type": "code",
   "execution_count": 30,
   "id": "84a4491e",
   "metadata": {},
   "outputs": [],
   "source": [
    "madrid_bars_json = gf.build_json(\"Bars\", \"Madrid\", madrid_bars)"
   ]
  },
  {
   "cell_type": "markdown",
   "id": "8e1793da",
   "metadata": {},
   "source": [
    "# LISBOA"
   ]
  },
  {
   "cell_type": "code",
   "execution_count": 31,
   "id": "ff39767f",
   "metadata": {},
   "outputs": [],
   "source": [
    "lisbon = gf.geocode(\"Avenida Antonio Augusto de Aguiar, Lisboa\")"
   ]
  },
  {
   "cell_type": "code",
   "execution_count": 32,
   "id": "fc589670",
   "metadata": {},
   "outputs": [
    {
     "data": {
      "text/plain": [
       "{'type': 'Point', 'coordinates': ['38.73280', '-9.15221']}"
      ]
     },
     "execution_count": 32,
     "metadata": {},
     "output_type": "execute_result"
    }
   ],
   "source": [
    "lisbon"
   ]
  },
  {
   "cell_type": "markdown",
   "id": "e6dbbb71",
   "metadata": {},
   "source": [
    "### STARBUCKS"
   ]
  },
  {
   "cell_type": "code",
   "execution_count": 33,
   "id": "1f14cd59",
   "metadata": {},
   "outputs": [],
   "source": [
    "lisbon_starbucks = gf.places_cities(\"Starbucks\", lisbon)"
   ]
  },
  {
   "cell_type": "code",
   "execution_count": 34,
   "id": "7dd6d5ff",
   "metadata": {},
   "outputs": [],
   "source": [
    "lisbon_starbucks_df = gf.build_df(lisbon_starbucks)"
   ]
  },
  {
   "cell_type": "code",
   "execution_count": 35,
   "id": "c4e4d41d",
   "metadata": {},
   "outputs": [],
   "source": [
    "lisbon_starbucks_json = gf.build_json(\"Starbucks\", \"Lisbon\", lisbon_starbucks)"
   ]
  },
  {
   "cell_type": "markdown",
   "id": "860428f8",
   "metadata": {},
   "source": [
    "### TRAIN STATION"
   ]
  },
  {
   "cell_type": "code",
   "execution_count": 36,
   "id": "6af4ade7",
   "metadata": {},
   "outputs": [],
   "source": [
    "lisbon_train = gf.places_cities(\"Estação Ferroviária\", lisbon)"
   ]
  },
  {
   "cell_type": "code",
   "execution_count": 37,
   "id": "fa29d35e",
   "metadata": {},
   "outputs": [],
   "source": [
    "lisbon_train_df = gf.build_df(lisbon_train)"
   ]
  },
  {
   "cell_type": "code",
   "execution_count": 38,
   "id": "e5127592",
   "metadata": {},
   "outputs": [],
   "source": [
    "lisbon_train_json = gf.build_json(\"Stations\", \"Lisbon\", lisbon_train)"
   ]
  },
  {
   "cell_type": "markdown",
   "id": "39ab9934",
   "metadata": {},
   "source": [
    "### PRESCHOOL"
   ]
  },
  {
   "cell_type": "code",
   "execution_count": 39,
   "id": "c135f888",
   "metadata": {},
   "outputs": [],
   "source": [
    "lisbon_preschool = gf.places_cities(\"infantário\", lisbon)"
   ]
  },
  {
   "cell_type": "code",
   "execution_count": 40,
   "id": "4d240e1a",
   "metadata": {},
   "outputs": [],
   "source": [
    "lisbon_preschool_df = gf.build_df(lisbon_preschool)"
   ]
  },
  {
   "cell_type": "code",
   "execution_count": 41,
   "id": "18fff7c2",
   "metadata": {},
   "outputs": [],
   "source": [
    "lisbon_preschool_json = gf.build_json(\"Preschool\", \"Lisbon\", lisbon_preschool)"
   ]
  },
  {
   "cell_type": "markdown",
   "id": "f5327992",
   "metadata": {},
   "source": [
    "### BARS"
   ]
  },
  {
   "cell_type": "code",
   "execution_count": 42,
   "id": "269486c9",
   "metadata": {},
   "outputs": [],
   "source": [
    "lisbon_bars = gf.places_cities(\"Bar\", lisbon)"
   ]
  },
  {
   "cell_type": "code",
   "execution_count": 43,
   "id": "326d710b",
   "metadata": {},
   "outputs": [],
   "source": [
    "lisbon_bars_df = gf.build_df(lisbon_bars)"
   ]
  },
  {
   "cell_type": "code",
   "execution_count": 44,
   "id": "84a30f5b",
   "metadata": {},
   "outputs": [],
   "source": [
    "lisbon_bars_json = gf.build_json(\"Bars\", \"Lisbon\", lisbon_bars)"
   ]
  }
 ],
 "metadata": {
  "kernelspec": {
   "display_name": "ironhack",
   "language": "python",
   "name": "ironhack"
  },
  "language_info": {
   "codemirror_mode": {
    "name": "ipython",
    "version": 3
   },
   "file_extension": ".py",
   "mimetype": "text/x-python",
   "name": "python",
   "nbconvert_exporter": "python",
   "pygments_lexer": "ipython3",
   "version": "3.8.5"
  }
 },
 "nbformat": 4,
 "nbformat_minor": 5
}
