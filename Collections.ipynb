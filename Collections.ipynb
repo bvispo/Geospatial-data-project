{
 "cells": [
  {
   "cell_type": "markdown",
   "id": "8bb23f3e",
   "metadata": {},
   "source": [
    "# Import libraries"
   ]
  },
  {
   "cell_type": "code",
   "execution_count": 2,
   "id": "15bbb696",
   "metadata": {},
   "outputs": [],
   "source": [
    "from pymongo import MongoClient\n",
    "import requests\n",
    "from dotenv import load_dotenv\n",
    "import os\n",
    "import pandas as pd\n",
    "import geopandas as gpd\n",
    "from cartoframes.viz import Map, Layer, popup_element\n",
    "from functools import reduce\n",
    "import operator\n",
    "import json\n",
    "\n",
    "# Importing the madrid functions:\n",
    "import src.geo_functions as gf"
   ]
  },
  {
   "cell_type": "code",
   "execution_count": 3,
   "id": "a175666b",
   "metadata": {},
   "outputs": [
    {
     "data": {
      "text/plain": [
       "True"
      ]
     },
     "execution_count": 3,
     "metadata": {},
     "output_type": "execute_result"
    }
   ],
   "source": [
    "load_dotenv()"
   ]
  },
  {
   "cell_type": "markdown",
   "id": "ace3f7a4",
   "metadata": {},
   "source": [
    "# LONDON"
   ]
  },
  {
   "cell_type": "code",
   "execution_count": 4,
   "id": "ac04d169",
   "metadata": {},
   "outputs": [],
   "source": [
    "london = gf.geocode(\"St Paul´s Cathedral, London\")"
   ]
  },
  {
   "cell_type": "markdown",
   "id": "8872d72f",
   "metadata": {},
   "source": [
    "### STARBUCKS"
   ]
  },
  {
   "cell_type": "code",
   "execution_count": 5,
   "id": "d93e50ec",
   "metadata": {},
   "outputs": [],
   "source": [
    "london_starbucks = gf.places_cities(\"Starbucks\", london)"
   ]
  },
  {
   "cell_type": "code",
   "execution_count": 6,
   "id": "81381dbf",
   "metadata": {},
   "outputs": [],
   "source": [
    "london_starbucks_df = gf.build_df(london_starbucks)"
   ]
  },
  {
   "cell_type": "code",
   "execution_count": 7,
   "id": "54f506f9",
   "metadata": {},
   "outputs": [],
   "source": [
    "london_starbucks_json = gf.build_json(\"Starbucks\", \"London\", london_starbucks)"
   ]
  },
  {
   "cell_type": "markdown",
   "id": "62467e63",
   "metadata": {},
   "source": [
    "### TRAIN STATION"
   ]
  },
  {
   "cell_type": "code",
   "execution_count": 8,
   "id": "ea230ea7",
   "metadata": {},
   "outputs": [],
   "source": [
    "london_train = gf.places_cities(\"Train Station\", london)"
   ]
  },
  {
   "cell_type": "code",
   "execution_count": 9,
   "id": "796bc340",
   "metadata": {},
   "outputs": [],
   "source": [
    "london_train_df = gf.build_df(london_train)"
   ]
  },
  {
   "cell_type": "code",
   "execution_count": 11,
   "id": "cbf4fcfd",
   "metadata": {},
   "outputs": [],
   "source": [
    "london_train_json = gf.build_json(\"Stations\", \"London\", london_train)"
   ]
  },
  {
   "cell_type": "markdown",
   "id": "44c44dea",
   "metadata": {},
   "source": [
    "### BARS"
   ]
  },
  {
   "cell_type": "code",
   "execution_count": 5,
   "id": "4ecac31d",
   "metadata": {},
   "outputs": [],
   "source": [
    "london_bars = gf.places_cities(\"Bar\", london)"
   ]
  },
  {
   "cell_type": "code",
   "execution_count": 6,
   "id": "da3dfcf4",
   "metadata": {},
   "outputs": [],
   "source": [
    "london_bars_df = gf.build_df(london_bars)"
   ]
  },
  {
   "cell_type": "code",
   "execution_count": 15,
   "id": "9866c57a",
   "metadata": {},
   "outputs": [],
   "source": [
    "london_bars_json = gf.build_json(\"Bars\", \"London\", london_bars)"
   ]
  },
  {
   "cell_type": "markdown",
   "id": "bcc5100f",
   "metadata": {},
   "source": [
    "# MADRID"
   ]
  },
  {
   "cell_type": "code",
   "execution_count": 21,
   "id": "71114795",
   "metadata": {},
   "outputs": [],
   "source": [
    "madrid = gf.geocode(\"Paseo de la Castellana, Madrid\")"
   ]
  },
  {
   "cell_type": "markdown",
   "id": "61d732a4",
   "metadata": {},
   "source": [
    "### STARBUCKS"
   ]
  },
  {
   "cell_type": "code",
   "execution_count": 23,
   "id": "ed448b19",
   "metadata": {},
   "outputs": [],
   "source": [
    "madrid_starbucks = gf.places_cities(\"Starbucks\", madrid)"
   ]
  },
  {
   "cell_type": "code",
   "execution_count": 24,
   "id": "5a2ba876",
   "metadata": {},
   "outputs": [],
   "source": [
    "madrid_starbucks_df = gf.build_df(madrid_starbucks)"
   ]
  },
  {
   "cell_type": "code",
   "execution_count": 26,
   "id": "25f92b39",
   "metadata": {},
   "outputs": [],
   "source": [
    "madrid_starbucks_json = gf.build_json(\"Starbucks\", \"Madrid\", madrid_starbucks)"
   ]
  },
  {
   "cell_type": "markdown",
   "id": "5ff76ac8",
   "metadata": {},
   "source": [
    "### TRAIN STATION"
   ]
  },
  {
   "cell_type": "code",
   "execution_count": 27,
   "id": "183e2091",
   "metadata": {},
   "outputs": [],
   "source": [
    "madrid_train = gf.places_cities(\"Estación de Madrid\", madrid)"
   ]
  },
  {
   "cell_type": "code",
   "execution_count": 28,
   "id": "97a3034a",
   "metadata": {},
   "outputs": [],
   "source": [
    "madrid_train_df = gf.build_df(madrid_train)"
   ]
  },
  {
   "cell_type": "code",
   "execution_count": 30,
   "id": "5c7bfd34",
   "metadata": {},
   "outputs": [],
   "source": [
    "madrid_train_json = gf.build_json(\"Stations\", \"Madrid\", madrid_train)"
   ]
  },
  {
   "cell_type": "markdown",
   "id": "a8c3af0c",
   "metadata": {},
   "source": [
    "### BARS"
   ]
  },
  {
   "cell_type": "code",
   "execution_count": 31,
   "id": "cc07d3b1",
   "metadata": {},
   "outputs": [],
   "source": [
    "madrid_bars = gf.places_cities(\"Bar\", madrid)"
   ]
  },
  {
   "cell_type": "code",
   "execution_count": 32,
   "id": "a7f5f355",
   "metadata": {},
   "outputs": [],
   "source": [
    "madrid_bars_df = gf.build_df(madrid_bars)"
   ]
  },
  {
   "cell_type": "code",
   "execution_count": 37,
   "id": "84a4491e",
   "metadata": {},
   "outputs": [],
   "source": [
    "madrid_bars_json = gf.build_json(\"Bars\", \"Madrid\", madrid_bars)"
   ]
  },
  {
   "cell_type": "markdown",
   "id": "8e1793da",
   "metadata": {},
   "source": [
    "# LISBOA"
   ]
  },
  {
   "cell_type": "code",
   "execution_count": 38,
   "id": "ff39767f",
   "metadata": {},
   "outputs": [],
   "source": [
    "lisbon = gf.geocode(\"Avenida Antonio Augusto de Aguiar, Lisboa\")"
   ]
  },
  {
   "cell_type": "markdown",
   "id": "e6dbbb71",
   "metadata": {},
   "source": [
    "### STARBUCKS"
   ]
  },
  {
   "cell_type": "code",
   "execution_count": 40,
   "id": "1f14cd59",
   "metadata": {},
   "outputs": [],
   "source": [
    "lisbon_starbucks = gf.places_cities(\"Starbucks\", lisbon)"
   ]
  },
  {
   "cell_type": "code",
   "execution_count": 41,
   "id": "7dd6d5ff",
   "metadata": {},
   "outputs": [],
   "source": [
    "lisbon_starbucks_df = gf.build_df(lisbon_starbucks)"
   ]
  },
  {
   "cell_type": "code",
   "execution_count": 42,
   "id": "c4e4d41d",
   "metadata": {},
   "outputs": [],
   "source": [
    "lisbon_starbucks_json = gf.build_json(\"Starbucks\", \"Lisbon\", lisbon_starbucks)"
   ]
  },
  {
   "cell_type": "markdown",
   "id": "860428f8",
   "metadata": {},
   "source": [
    "### TRAIN STATION"
   ]
  },
  {
   "cell_type": "code",
   "execution_count": 43,
   "id": "6af4ade7",
   "metadata": {},
   "outputs": [],
   "source": [
    "lisbon_train = gf.places_cities(\"Estação Ferroviária\", lisbon)"
   ]
  },
  {
   "cell_type": "code",
   "execution_count": 44,
   "id": "fa29d35e",
   "metadata": {},
   "outputs": [],
   "source": [
    "lisbon_train_df = gf.build_df(lisbon_train)"
   ]
  },
  {
   "cell_type": "code",
   "execution_count": 45,
   "id": "e5127592",
   "metadata": {},
   "outputs": [],
   "source": [
    "lisbon_train_json = gf.build_json(\"Stations\", \"Lisbon\", lisbon_train)"
   ]
  },
  {
   "cell_type": "markdown",
   "id": "f5327992",
   "metadata": {},
   "source": [
    "### BARS"
   ]
  },
  {
   "cell_type": "code",
   "execution_count": 46,
   "id": "269486c9",
   "metadata": {},
   "outputs": [],
   "source": [
    "lisbon_bars = gf.places_cities(\"Bar\", lisbon)"
   ]
  },
  {
   "cell_type": "code",
   "execution_count": 47,
   "id": "326d710b",
   "metadata": {},
   "outputs": [],
   "source": [
    "lisbon_bars_df = gf.build_df(lisbon_bars)"
   ]
  },
  {
   "cell_type": "code",
   "execution_count": 51,
   "id": "84a30f5b",
   "metadata": {},
   "outputs": [],
   "source": [
    "lisbon_bars_json = gf.build_json(\"Bars\", \"Lisbon\", lisbon_bars)"
   ]
  }
 ],
 "metadata": {
  "kernelspec": {
   "display_name": "ironhack",
   "language": "python",
   "name": "ironhack"
  },
  "language_info": {
   "codemirror_mode": {
    "name": "ipython",
    "version": 3
   },
   "file_extension": ".py",
   "mimetype": "text/x-python",
   "name": "python",
   "nbconvert_exporter": "python",
   "pygments_lexer": "ipython3",
   "version": "3.8.5"
  }
 },
 "nbformat": 4,
 "nbformat_minor": 5
}
