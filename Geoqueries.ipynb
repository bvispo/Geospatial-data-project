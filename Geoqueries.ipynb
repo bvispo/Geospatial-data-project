{
 "cells": [
  {
   "cell_type": "markdown",
   "id": "2fd41618",
   "metadata": {},
   "source": [
    "# 1. Import libraries"
   ]
  },
  {
   "cell_type": "code",
   "execution_count": 1,
   "id": "85fd649f",
   "metadata": {},
   "outputs": [],
   "source": [
    "from pymongo import MongoClient\n",
    "from pymongo import GEOSPHERE\n",
    "import src.geo_functions as gf\n",
    "from bson.json_util import dumps\n",
    "import json\n",
    "import pandas as pd\n",
    "\n",
    "# Importing the madrid functions:\n",
    "import src.geo_functions as gf"
   ]
  },
  {
   "cell_type": "markdown",
   "id": "21ac2700",
   "metadata": {},
   "source": [
    "# 2. Make MongoDB Connection"
   ]
  },
  {
   "cell_type": "code",
   "execution_count": 2,
   "id": "2db46227",
   "metadata": {},
   "outputs": [
    {
     "data": {
      "text/plain": [
       "Database(MongoClient(host=['localhost:27017'], document_class=dict, tz_aware=False, connect=True), 'geospatial')"
      ]
     },
     "execution_count": 2,
     "metadata": {},
     "output_type": "execute_result"
    }
   ],
   "source": [
    "client = MongoClient(\"localhost:27017\")\n",
    "db = client.get_database(\"geospatial\")"
   ]
  },
  {
   "cell_type": "code",
   "execution_count": 3,
   "id": "d251781e",
   "metadata": {},
   "outputs": [],
   "source": [
    "lisbon = db.get_collection(\"lisbon\")\n",
    "london = db.get_collection(\"london\")\n",
    "madrid = db.get_collection(\"madrid\")"
   ]
  },
  {
   "cell_type": "markdown",
   "id": "78ef9e5e",
   "metadata": {},
   "source": [
    "# 3. Indexes creation"
   ]
  },
  {
   "cell_type": "code",
   "execution_count": null,
   "id": "77b5c0ab",
   "metadata": {},
   "outputs": [],
   "source": [
    "db.lisbon.create_index([(\"location\", GEOSPHERE)])\n",
    "db.london.create_index([(\"location\", GEOSPHERE)])\n",
    "db.madrid.create_index([(\"location\", GEOSPHERE)])"
   ]
  },
  {
   "cell_type": "markdown",
   "id": "311264cb",
   "metadata": {},
   "source": [
    "# 4. Some extra cleanning"
   ]
  },
  {
   "cell_type": "code",
   "execution_count": 4,
   "id": "4075ec69",
   "metadata": {},
   "outputs": [],
   "source": [
    "diccionario = {\"Pub\": \"Bar\",\n",
    "            \"Metro\": 'Train Station',\n",
    "            \"Café\": \"Bar\",\n",
    "            \"Bar\": \"Bar\",\n",
    "            \"Comedy Club\": \"Bar\",\n",
    "            \"Steakhouse\": \"Bar\",\n",
    "            \"Hotel Bar\": \"Bar\",\n",
    "            \"Cocktail\":\"Bar\",\n",
    "            \"Lounge\": \"Bar\",\n",
    "            \"Nightclub\": \"Bar\",\n",
    "            \"Restaurant\": \"Bar\",\n",
    "            \"Sports Bar\": \"Bar\", \n",
    "            \"Bistro\": \"Bar\",\n",
    "            \"Wine Bar\": \"Bar\",\n",
    "            \"Pizza\": \"Bar\",  \n",
    "            'Bus Stop': 'Train Station',\n",
    "            \"Nightclub\": \"Bar\",\n",
    "            \"Spanish\": 'Bar',\n",
    "            \"Winery\": \"Bar\",\n",
    "            \"Cocktail\": \"Bar\",\n",
    "            \"Tapas\": \"Bar\",\n",
    "            \"Coffee Shop\": \"Starbucks\", \n",
    "            \"Japanese\": \"Bar\",\n",
    "            \"Seafood\": \"Bar\",  \n",
    "            \"Brewery\":\"Bar\",\n",
    "            \"Diner\": \"Bar\",\n",
    "            \"Breakfast\": \"Bar\",\n",
    "            \"Chinese\": \"Bar\",\n",
    "            'New American': 'Bar',\n",
    "            \"Cafeteria\": \"Bar\",\n",
    "            \"Salon / Barbershop\": \"Bar\",\n",
    "            \"Roof Deck\": \"Bar\",\n",
    "            \"Sushi\": \"Bar\", \n",
    "            \"Snacks\": \"Bar\",  \n",
    "            \"Karaoke\":\"Bar\",\n",
    "            \"Corporate Cafeteria\": \"Bar\",\n",
    "            \"Ice Cream\": \"Bar\",\n",
    "            'Portuguese': 'Bar',\n",
    "            'Train Station': 'Train Station'}"
   ]
  },
  {
   "cell_type": "markdown",
   "id": "e8fe6309",
   "metadata": {},
   "source": [
    "# 5. Geoqueries"
   ]
  },
  {
   "cell_type": "markdown",
   "id": "c1ff2ee5",
   "metadata": {},
   "source": [
    "## LONDON "
   ]
  },
  {
   "cell_type": "code",
   "execution_count": 62,
   "id": "925c636b",
   "metadata": {},
   "outputs": [],
   "source": [
    "london_ = gf.geocode(\"St Paul´s Cathedral, London\")"
   ]
  },
  {
   "cell_type": "code",
   "execution_count": 63,
   "id": "551f0ec5",
   "metadata": {},
   "outputs": [],
   "source": [
    "query_london = [{\"$geoNear\" : {'near': [51.51421, -0.05688],\n",
    "                        'distanceField' : 'distance',\n",
    "                        'maxDistance' : 1000,\n",
    "                        'distanceMultiplier': 6371,\n",
    "                        'spherical' : True}}]\n",
    "\n",
    "geoloc_london = london.aggregate(query_london)\n",
    "london_json = json.loads(dumps(geoloc_london))"
   ]
  },
  {
   "cell_type": "code",
   "execution_count": null,
   "id": "c2b1720c",
   "metadata": {},
   "outputs": [],
   "source": [
    "# Now we create a dataframe out of the json obtained:"
   ]
  },
  {
   "cell_type": "code",
   "execution_count": 64,
   "id": "7e6ffb66",
   "metadata": {},
   "outputs": [],
   "source": [
    "london_df = pd.DataFrame(london_json)"
   ]
  },
  {
   "cell_type": "code",
   "execution_count": 11,
   "id": "7086227c",
   "metadata": {},
   "outputs": [],
   "source": [
    "gf.drop_columns(london_df)"
   ]
  },
  {
   "cell_type": "code",
   "execution_count": 12,
   "id": "ae18c0b2",
   "metadata": {},
   "outputs": [],
   "source": [
    "london_df[\"city\"] = \"London\""
   ]
  },
  {
   "cell_type": "code",
   "execution_count": 13,
   "id": "64a5a1e5",
   "metadata": {},
   "outputs": [],
   "source": [
    "london_df['shortname'] = london_df['shortname'].map(diccionario)"
   ]
  },
  {
   "cell_type": "markdown",
   "id": "2649c811",
   "metadata": {},
   "source": [
    "## LISBON"
   ]
  },
  {
   "cell_type": "code",
   "execution_count": 15,
   "id": "d71bb077",
   "metadata": {},
   "outputs": [],
   "source": [
    "lisbon_ = gf.geocode(\"Avenida Antonio Augusto de Aguiar, Lisboa\")"
   ]
  },
  {
   "cell_type": "code",
   "execution_count": 17,
   "id": "74808899",
   "metadata": {},
   "outputs": [],
   "source": [
    "query_lisbon = [{\"$geoNear\" : {'near': [38.73280, -9.15221],\n",
    "                        'distanceField' : 'distance',\n",
    "                        'maxDistance' : 1000,\n",
    "                        'distanceMultiplier': 6371,\n",
    "                        'spherical' : True}}]\n",
    "\n",
    "geoloc_lisbon = lisbon.aggregate(query_lisbon)\n",
    "lisbon_json = json.loads(dumps(geoloc_lisbon))"
   ]
  },
  {
   "cell_type": "code",
   "execution_count": 19,
   "id": "1cfffadf",
   "metadata": {},
   "outputs": [],
   "source": [
    "# Now we create a dataframe out of the json obtained:"
   ]
  },
  {
   "cell_type": "code",
   "execution_count": 20,
   "id": "6eb8ebdb",
   "metadata": {},
   "outputs": [],
   "source": [
    "lisbon_df = pd.DataFrame(lisbon_json)"
   ]
  },
  {
   "cell_type": "code",
   "execution_count": 21,
   "id": "93948d7e",
   "metadata": {},
   "outputs": [],
   "source": [
    "gf.drop_columns(lisbon_df)"
   ]
  },
  {
   "cell_type": "code",
   "execution_count": 22,
   "id": "21191573",
   "metadata": {},
   "outputs": [],
   "source": [
    "lisbon_df[\"city\"] = \"Lisbon\""
   ]
  },
  {
   "cell_type": "code",
   "execution_count": 23,
   "id": "9d296422",
   "metadata": {},
   "outputs": [],
   "source": [
    "lisbon_df['shortname'] = lisbon_df['shortname'].map(diccionario)"
   ]
  },
  {
   "cell_type": "markdown",
   "id": "befd1d5a",
   "metadata": {},
   "source": [
    "## MADRID"
   ]
  },
  {
   "cell_type": "code",
   "execution_count": 25,
   "id": "47fe24af",
   "metadata": {},
   "outputs": [],
   "source": [
    "madrid_ = gf.geocode(\"Paseo de la Castellana, Madrid\")"
   ]
  },
  {
   "cell_type": "code",
   "execution_count": 27,
   "id": "a715232e",
   "metadata": {},
   "outputs": [],
   "source": [
    "query_madrid = [{\"$geoNear\" : {'near': [40.46879, -3.68915],\n",
    "                        'distanceField' : 'distance',\n",
    "                        'maxDistance' : 1000,\n",
    "                        'distanceMultiplier': 6371,\n",
    "                        'spherical' : True}}]\n",
    "\n",
    "geoloc_madrid = madrid.aggregate(query_madrid)\n",
    "madrid_json = json.loads(dumps(geoloc_madrid))"
   ]
  },
  {
   "cell_type": "code",
   "execution_count": 29,
   "id": "204e16fb",
   "metadata": {},
   "outputs": [],
   "source": [
    "# Now we create a dataframe out of the json obtained:"
   ]
  },
  {
   "cell_type": "code",
   "execution_count": 30,
   "id": "1a8a606d",
   "metadata": {},
   "outputs": [],
   "source": [
    "madrid_df = pd.DataFrame(madrid_json)"
   ]
  },
  {
   "cell_type": "code",
   "execution_count": 31,
   "id": "1de94875",
   "metadata": {},
   "outputs": [],
   "source": [
    "gf.drop_columns(madrid_df)"
   ]
  },
  {
   "cell_type": "code",
   "execution_count": 32,
   "id": "d439943f",
   "metadata": {},
   "outputs": [],
   "source": [
    "madrid_df[\"city\"] = \"Madrid\""
   ]
  },
  {
   "cell_type": "code",
   "execution_count": 33,
   "id": "90639bbf",
   "metadata": {},
   "outputs": [],
   "source": [
    "madrid_df['shortname'] = madrid_df['shortname'].map(diccionario)"
   ]
  },
  {
   "cell_type": "markdown",
   "id": "b341f558",
   "metadata": {},
   "source": [
    "# 6. DATA FOR PONDERATIONS"
   ]
  },
  {
   "cell_type": "code",
   "execution_count": 56,
   "id": "8eca783d",
   "metadata": {},
   "outputs": [],
   "source": [
    "# First, we create a new dataframe with the information of the three cities:"
   ]
  },
  {
   "cell_type": "code",
   "execution_count": 48,
   "id": "47129d53",
   "metadata": {},
   "outputs": [],
   "source": [
    "data = madrid_df.append([lisbon_df, london_df])"
   ]
  },
  {
   "cell_type": "code",
   "execution_count": 57,
   "id": "9269db28",
   "metadata": {},
   "outputs": [],
   "source": [
    "# Second, we apply the ponderation funcions:"
   ]
  },
  {
   "cell_type": "code",
   "execution_count": 49,
   "id": "a2ec42e7",
   "metadata": {},
   "outputs": [],
   "source": [
    "data[\"Puntuation\"] = data[\"shortname\"].apply(gf.puntuacion)"
   ]
  },
  {
   "cell_type": "code",
   "execution_count": null,
   "id": "f41600ee",
   "metadata": {},
   "outputs": [],
   "source": [
    "# Third, we create a new column \"Total\":"
   ]
  },
  {
   "cell_type": "code",
   "execution_count": 50,
   "id": "77c7bc8e",
   "metadata": {},
   "outputs": [],
   "source": [
    "data[\"Total\"] = data[\"distance\"]*data[\"Puntuation\"]"
   ]
  },
  {
   "cell_type": "code",
   "execution_count": null,
   "id": "156ea65b",
   "metadata": {},
   "outputs": [],
   "source": [
    "# Fourth, we create a new dataframe where we can see the result:"
   ]
  },
  {
   "cell_type": "code",
   "execution_count": 58,
   "id": "e14de68d",
   "metadata": {},
   "outputs": [],
   "source": [
    "final_punctuations = pd.DataFrame(data.groupby(['city'])[\"Total\"].sum())"
   ]
  },
  {
   "cell_type": "code",
   "execution_count": 59,
   "id": "69f20939",
   "metadata": {},
   "outputs": [
    {
     "data": {
      "text/html": [
       "<div>\n",
       "<style scoped>\n",
       "    .dataframe tbody tr th:only-of-type {\n",
       "        vertical-align: middle;\n",
       "    }\n",
       "\n",
       "    .dataframe tbody tr th {\n",
       "        vertical-align: top;\n",
       "    }\n",
       "\n",
       "    .dataframe thead th {\n",
       "        text-align: right;\n",
       "    }\n",
       "</style>\n",
       "<table border=\"1\" class=\"dataframe\">\n",
       "  <thead>\n",
       "    <tr style=\"text-align: right;\">\n",
       "      <th></th>\n",
       "      <th>Total</th>\n",
       "    </tr>\n",
       "    <tr>\n",
       "      <th>city</th>\n",
       "      <th></th>\n",
       "    </tr>\n",
       "  </thead>\n",
       "  <tbody>\n",
       "    <tr>\n",
       "      <th>Lisbon</th>\n",
       "      <td>1553.270196</td>\n",
       "    </tr>\n",
       "    <tr>\n",
       "      <th>London</th>\n",
       "      <td>1374.092475</td>\n",
       "    </tr>\n",
       "    <tr>\n",
       "      <th>Madrid</th>\n",
       "      <td>917.717745</td>\n",
       "    </tr>\n",
       "  </tbody>\n",
       "</table>\n",
       "</div>"
      ],
      "text/plain": [
       "              Total\n",
       "city               \n",
       "Lisbon  1553.270196\n",
       "London  1374.092475\n",
       "Madrid   917.717745"
      ]
     },
     "execution_count": 59,
     "metadata": {},
     "output_type": "execute_result"
    }
   ],
   "source": [
    "final_punctuations"
   ]
  },
  {
   "cell_type": "markdown",
   "id": "594842dc",
   "metadata": {},
   "source": [
    "As we can see in the latter table, Lisbon will be the best city to open the company, as it fulfils the most requirements."
   ]
  },
  {
   "cell_type": "code",
   "execution_count": 61,
   "id": "111069a5",
   "metadata": {},
   "outputs": [
    {
     "data": {
      "text/plain": [
       "[1.0, 0.7180756359568398, 0.0]"
      ]
     },
     "execution_count": 61,
     "metadata": {},
     "output_type": "execute_result"
    }
   ],
   "source": [
    "gf.normalizacion(final_punctuations, \"Total\")"
   ]
  },
  {
   "cell_type": "markdown",
   "id": "3ed5ee9d",
   "metadata": {},
   "source": [
    "# 7. Visualization"
   ]
  },
  {
   "cell_type": "code",
   "execution_count": 43,
   "id": "2b26ebf4",
   "metadata": {},
   "outputs": [],
   "source": [
    "import folium\n",
    "from folium import Choropleth, Circle, Marker, Icon, Map\n",
    "from folium.plugins import HeatMap, MarkerCluster"
   ]
  },
  {
   "cell_type": "code",
   "execution_count": 53,
   "id": "dd5f2977",
   "metadata": {},
   "outputs": [
    {
     "data": {
      "text/plain": [
       "{'type': 'Point', 'coordinates': ['40.46879', '-3.68915']}"
      ]
     },
     "execution_count": 53,
     "metadata": {},
     "output_type": "execute_result"
    }
   ],
   "source": [
    "madrid_"
   ]
  },
  {
   "cell_type": "code",
   "execution_count": 54,
   "id": "54012a19",
   "metadata": {},
   "outputs": [],
   "source": [
    "map_1 = folium.Map(location=[40.46879,-3.68915], zoom_start=15)\n",
    "map_1;"
   ]
  },
  {
   "cell_type": "code",
   "execution_count": 55,
   "id": "366bb227",
   "metadata": {},
   "outputs": [],
   "source": [
    "for i,row in data.iterrows():\n",
    "    distrito = {\"location\": [row[\"latitud\"], row[\"longitud\"]], \"tooltip\": row[\"name\"]}\n",
    "    \n",
    "    if row[\"shortname\"] == \"Starbucks\":\n",
    "        icono = Icon(color = \"red\",\n",
    "                     prefix=\"fa\",\n",
    "                     icon=\"laptop\",\n",
    "                     icon_color=\"black\"\n",
    "        )\n",
    "    elif row[\"shortname\"] == \"Train Station\":\n",
    "        icono = Icon(color = \"green\",\n",
    "                     prefix=\"fa\",\n",
    "                     icon=\"glass\",\n",
    "                     icon_color=\"black\")\n",
    "        \n",
    "    elif row[\"shortname\"] == \"Bar\":\n",
    "        icono = Icon(color = \"cadetblue\",\n",
    "                     prefix=\"fa\",\n",
    "                     icon=\"bug\",\n",
    "                     icon_color=\"black\")\n",
    "        \n",
    "    mark = Marker(**distrito, icono=Icon)\n",
    "    mark.add_to(map_1)\n",
    "map_1;"
   ]
  }
 ],
 "metadata": {
  "kernelspec": {
   "display_name": "ironhack",
   "language": "python",
   "name": "ironhack"
  },
  "language_info": {
   "codemirror_mode": {
    "name": "ipython",
    "version": 3
   },
   "file_extension": ".py",
   "mimetype": "text/x-python",
   "name": "python",
   "nbconvert_exporter": "python",
   "pygments_lexer": "ipython3",
   "version": "3.8.5"
  }
 },
 "nbformat": 4,
 "nbformat_minor": 5
}
