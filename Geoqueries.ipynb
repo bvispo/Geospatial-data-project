{
 "cells": [
  {
   "cell_type": "code",
   "execution_count": 1,
   "id": "e458856a",
   "metadata": {},
   "outputs": [],
   "source": [
    "from pymongo import MongoClient\n",
    "from pymongo import GEOSPHERE\n",
    "import src.geo_functions as gf\n",
    "from bson.json_util import dumps\n",
    "import json\n",
    "import pandas as pd\n",
    "\n",
    "# Importing the madrid functions:\n",
    "import src.geo_functions as gf"
   ]
  },
  {
   "cell_type": "code",
   "execution_count": 2,
   "id": "edee2606",
   "metadata": {},
   "outputs": [
    {
     "data": {
      "text/plain": [
       "Database(MongoClient(host=['localhost:27017'], document_class=dict, tz_aware=False, connect=True), 'geospatial')"
      ]
     },
     "execution_count": 2,
     "metadata": {},
     "output_type": "execute_result"
    }
   ],
   "source": [
    "client = MongoClient(\"localhost:27017\")\n",
    "db = client.get_database(\"geospatial\")\n",
    "db"
   ]
  },
  {
   "cell_type": "code",
   "execution_count": 3,
   "id": "9ff1ded7",
   "metadata": {},
   "outputs": [],
   "source": [
    "lisbon = db.get_collection(\"lisbon\")\n",
    "london = db.get_collection(\"london\")\n",
    "madrid = db.get_collection(\"madrid\")"
   ]
  },
  {
   "cell_type": "code",
   "execution_count": null,
   "id": "fdf87de8",
   "metadata": {},
   "outputs": [],
   "source": [
    "# Creamos el  index 2dsphere desde pymongo\n",
    "\n",
    "db.lisbon.create_index([(\"location\", GEOSPHERE)])\n",
    "db.london.create_index([(\"location\", GEOSPHERE)])\n",
    "db.madrid.create_index([(\"location\", GEOSPHERE)])\n"
   ]
  },
  {
   "cell_type": "code",
   "execution_count": 4,
   "id": "158c16af",
   "metadata": {},
   "outputs": [],
   "source": [
    "diccionario = {\"Pub\": \"Bar\",\n",
    "            \"Metro\": 'Train Station',\n",
    "            \"Café\": \"Bar\",\n",
    "            \"Bar\": \"Bar\",\n",
    "            \"Comedy Club\": \"Bar\",\n",
    "            \"Steakhouse\": \"Bar\",\n",
    "            \"Hotel Bar\": \"Bar\",\n",
    "            \"Cocktail\":\"Bar\",\n",
    "            \"Lounge\": \"Bar\",\n",
    "            \"Nightclub\": \"Bar\",\n",
    "            \"Restaurant\": \"Bar\",\n",
    "            \"Sports Bar\": \"Bar\", \n",
    "            \"Bistro\": \"Bar\",\n",
    "            \"Wine Bar\": \"Bar\",\n",
    "            \"Pizza\": \"Bar\",  \n",
    "            'Bus Stop': 'Train Station',\n",
    "            \"Nightclub\": \"Bar\",\n",
    "            \"Spanish\": 'Bar',\n",
    "            \"Winery\": \"Bar\",\n",
    "            \"Cocktail\": \"Bar\",\n",
    "            \"Tapas\": \"Bar\",\n",
    "            \"Coffee Shop\": \"Starbucks\", \n",
    "            \"Japanese\": \"Bar\",\n",
    "            \"Seafood\": \"Bar\",  \n",
    "            \"Brewery\":\"Bar\",\n",
    "            \"Diner\": \"Bar\",\n",
    "            \"Breakfast\": \"Bar\",\n",
    "            \"Chinese\": \"Bar\",\n",
    "            'New American': 'Bar',\n",
    "            \"Cafeteria\": \"Bar\",\n",
    "            \"Salon / Barbershop\": \"Bar\",\n",
    "            \"Roof Deck\": \"Bar\",\n",
    "            \"Sushi\": \"Bar\", \n",
    "            \"Snacks\": \"Bar\",  \n",
    "            \"Karaoke\":\"Bar\",\n",
    "            \"Corporate Cafeteria\": \"Bar\",\n",
    "            \"Ice Cream\": \"Bar\",\n",
    "            'Portuguese': 'Bar',\n",
    "            'Train Station': 'Train Station'}"
   ]
  },
  {
   "cell_type": "markdown",
   "id": "97a2a46b",
   "metadata": {},
   "source": [
    "# LONDON "
   ]
  },
  {
   "cell_type": "code",
   "execution_count": 9,
   "id": "b32d20dd",
   "metadata": {},
   "outputs": [],
   "source": [
    "london_ = gf.geocode(\"St Paul´s Cathedral, London\")"
   ]
  },
  {
   "cell_type": "code",
   "execution_count": 10,
   "id": "7b66508b",
   "metadata": {},
   "outputs": [
    {
     "data": {
      "text/plain": [
       "{'type': 'Point', 'coordinates': ['51.51421', '-0.05688']}"
      ]
     },
     "execution_count": 10,
     "metadata": {},
     "output_type": "execute_result"
    }
   ],
   "source": [
    "london_"
   ]
  },
  {
   "cell_type": "code",
   "execution_count": 11,
   "id": "d6a75730",
   "metadata": {},
   "outputs": [],
   "source": [
    "query_london = [{\"$geoNear\" : {'near': [51.51421, -0.05688],\n",
    "                        'distanceField' : 'distance',\n",
    "                        'maxDistance' : 1000,\n",
    "                        'distanceMultiplier': 6371,\n",
    "                        'spherical' : True}}]"
   ]
  },
  {
   "cell_type": "code",
   "execution_count": 12,
   "id": "fb528ade",
   "metadata": {},
   "outputs": [],
   "source": [
    "geoloc_london = london.aggregate(query_london)"
   ]
  },
  {
   "cell_type": "code",
   "execution_count": 13,
   "id": "eb025f6c",
   "metadata": {},
   "outputs": [],
   "source": [
    "london_json = json.loads(dumps(geoloc_london))"
   ]
  },
  {
   "cell_type": "code",
   "execution_count": 21,
   "id": "59c83a0d",
   "metadata": {},
   "outputs": [],
   "source": [
    "london_df = pd.DataFrame(london_json)"
   ]
  },
  {
   "cell_type": "code",
   "execution_count": 22,
   "id": "bf6a5527",
   "metadata": {},
   "outputs": [],
   "source": [
    "gf.drop_columns(london_df)"
   ]
  },
  {
   "cell_type": "code",
   "execution_count": 23,
   "id": "b6dc8022",
   "metadata": {},
   "outputs": [],
   "source": [
    "london_df[\"city\"] = \"London\""
   ]
  },
  {
   "cell_type": "code",
   "execution_count": 24,
   "id": "dbd8ada9",
   "metadata": {},
   "outputs": [],
   "source": [
    "london_df['shortname'] = london_df['shortname'].map(diccionario)"
   ]
  },
  {
   "cell_type": "code",
   "execution_count": 25,
   "id": "66fa8424",
   "metadata": {},
   "outputs": [
    {
     "data": {
      "text/plain": [
       "array(['Train Station', 'Bar', 'Starbucks', nan], dtype=object)"
      ]
     },
     "execution_count": 25,
     "metadata": {},
     "output_type": "execute_result"
    }
   ],
   "source": [
    "london_df.shortname.unique()"
   ]
  },
  {
   "cell_type": "markdown",
   "id": "256c918e",
   "metadata": {},
   "source": [
    "# LISBON"
   ]
  },
  {
   "cell_type": "code",
   "execution_count": 28,
   "id": "6fcdcc5b",
   "metadata": {},
   "outputs": [],
   "source": [
    "lisbon_ = gf.geocode(\"Avenida Antonio Augusto de Aguiar, Lisboa\")"
   ]
  },
  {
   "cell_type": "code",
   "execution_count": 29,
   "id": "a66523c8",
   "metadata": {},
   "outputs": [
    {
     "data": {
      "text/plain": [
       "{'type': 'Point', 'coordinates': ['38.73280', '-9.15221']}"
      ]
     },
     "execution_count": 29,
     "metadata": {},
     "output_type": "execute_result"
    }
   ],
   "source": [
    "lisbon_"
   ]
  },
  {
   "cell_type": "code",
   "execution_count": 30,
   "id": "376dc1c5",
   "metadata": {},
   "outputs": [],
   "source": [
    "query_lisbon = [{\"$geoNear\" : {'near': [38.73280, -9.15221],\n",
    "                        'distanceField' : 'distance',\n",
    "                        'maxDistance' : 1000,\n",
    "                        'distanceMultiplier': 6371,\n",
    "                        'spherical' : True}}]"
   ]
  },
  {
   "cell_type": "code",
   "execution_count": 31,
   "id": "19c43580",
   "metadata": {},
   "outputs": [],
   "source": [
    "geoloc_lisbon = lisbon.aggregate(query_lisbon)"
   ]
  },
  {
   "cell_type": "code",
   "execution_count": 32,
   "id": "3121f1a5",
   "metadata": {},
   "outputs": [],
   "source": [
    "lisbon_json = json.loads(dumps(geoloc_lisbon))"
   ]
  },
  {
   "cell_type": "code",
   "execution_count": 33,
   "id": "c4fe2572",
   "metadata": {},
   "outputs": [],
   "source": [
    "lisbon_df = pd.DataFrame(lisbon_json)"
   ]
  },
  {
   "cell_type": "code",
   "execution_count": 34,
   "id": "42302401",
   "metadata": {},
   "outputs": [],
   "source": [
    "gf.drop_columns(lisbon_df)"
   ]
  },
  {
   "cell_type": "code",
   "execution_count": 35,
   "id": "fc3d992b",
   "metadata": {},
   "outputs": [],
   "source": [
    "lisbon_df[\"city\"] = \"Lisbon\""
   ]
  },
  {
   "cell_type": "code",
   "execution_count": 36,
   "id": "59798916",
   "metadata": {},
   "outputs": [],
   "source": [
    "lisbon_df['shortname'] = lisbon_df['shortname'].map(diccionario)"
   ]
  },
  {
   "cell_type": "code",
   "execution_count": 37,
   "id": "9706caf2",
   "metadata": {},
   "outputs": [
    {
     "data": {
      "text/plain": [
       "array(['Bar', 'Starbucks', 'Train Station'], dtype=object)"
      ]
     },
     "execution_count": 37,
     "metadata": {},
     "output_type": "execute_result"
    }
   ],
   "source": [
    "lisbon_df.shortname.unique()"
   ]
  },
  {
   "cell_type": "markdown",
   "id": "f829bf59",
   "metadata": {},
   "source": [
    "# MADRID"
   ]
  },
  {
   "cell_type": "code",
   "execution_count": 38,
   "id": "149c3b87",
   "metadata": {},
   "outputs": [],
   "source": [
    "madrid_ = gf.geocode(\"Paseo de la Castellana, Madrid\")"
   ]
  },
  {
   "cell_type": "code",
   "execution_count": 39,
   "id": "cbb0590f",
   "metadata": {},
   "outputs": [
    {
     "data": {
      "text/plain": [
       "{'type': 'Point', 'coordinates': ['40.46879', '-3.68915']}"
      ]
     },
     "execution_count": 39,
     "metadata": {},
     "output_type": "execute_result"
    }
   ],
   "source": [
    "madrid_"
   ]
  },
  {
   "cell_type": "code",
   "execution_count": 40,
   "id": "537146e2",
   "metadata": {},
   "outputs": [],
   "source": [
    "query_madrid = [{\"$geoNear\" : {'near': [40.46879, -3.68915],\n",
    "                        'distanceField' : 'distance',\n",
    "                        'maxDistance' : 1000,\n",
    "                        'distanceMultiplier': 6371,\n",
    "                        'spherical' : True}}]"
   ]
  },
  {
   "cell_type": "code",
   "execution_count": 41,
   "id": "aed30882",
   "metadata": {},
   "outputs": [],
   "source": [
    "geoloc_madrid = madrid.aggregate(query_madrid)"
   ]
  },
  {
   "cell_type": "code",
   "execution_count": 42,
   "id": "ad99be6c",
   "metadata": {},
   "outputs": [],
   "source": [
    "madrid_json = json.loads(dumps(geoloc_madrid))"
   ]
  },
  {
   "cell_type": "code",
   "execution_count": 43,
   "id": "227ef6be",
   "metadata": {},
   "outputs": [],
   "source": [
    "madrid_df = pd.DataFrame(madrid_json)"
   ]
  },
  {
   "cell_type": "code",
   "execution_count": 44,
   "id": "b540b76d",
   "metadata": {},
   "outputs": [],
   "source": [
    "# As we are not going to need the followinf columns for this purpose, we remove them\n",
    "gf.drop_columns(madrid_df)"
   ]
  },
  {
   "cell_type": "code",
   "execution_count": 45,
   "id": "f220e010",
   "metadata": {},
   "outputs": [],
   "source": [
    "madrid_df[\"city\"] = \"Madrid\""
   ]
  },
  {
   "cell_type": "code",
   "execution_count": 46,
   "id": "dbf161d1",
   "metadata": {},
   "outputs": [],
   "source": [
    "madrid_df['shortname'] = madrid_df['shortname'].map(diccionario)"
   ]
  },
  {
   "cell_type": "code",
   "execution_count": 47,
   "id": "530609cb",
   "metadata": {},
   "outputs": [
    {
     "data": {
      "text/plain": [
       "array([nan, 'Bar', 'Train Station', 'Starbucks'], dtype=object)"
      ]
     },
     "execution_count": 47,
     "metadata": {},
     "output_type": "execute_result"
    }
   ],
   "source": [
    "madrid_df.shortname.unique()"
   ]
  },
  {
   "cell_type": "markdown",
   "id": "056f94bb",
   "metadata": {},
   "source": [
    "# DATA FOR PONDERATIONS"
   ]
  },
  {
   "cell_type": "code",
   "execution_count": 48,
   "id": "20477905",
   "metadata": {},
   "outputs": [],
   "source": [
    "data = madrid_df.append([lisbon_df, london_df])"
   ]
  },
  {
   "cell_type": "code",
   "execution_count": 49,
   "id": "18cb9875",
   "metadata": {},
   "outputs": [],
   "source": [
    "data[\"Puntuation\"] = data[\"shortname\"].apply(gf.puntuacion)"
   ]
  },
  {
   "cell_type": "code",
   "execution_count": 50,
   "id": "b204b1cf",
   "metadata": {},
   "outputs": [],
   "source": [
    "data[\"Total\"] = data[\"distance\"]*data[\"Puntuation\"]"
   ]
  },
  {
   "cell_type": "code",
   "execution_count": 51,
   "id": "5e928f50",
   "metadata": {},
   "outputs": [],
   "source": [
    "data_final = data.groupby(['city'])[\"Total\"].sum()"
   ]
  },
  {
   "cell_type": "code",
   "execution_count": 52,
   "id": "cb8b87db",
   "metadata": {},
   "outputs": [
    {
     "data": {
      "text/plain": [
       "city\n",
       "Lisbon    1553.270196\n",
       "London    1374.092475\n",
       "Madrid     917.717745\n",
       "Name: Total, dtype: float64"
      ]
     },
     "execution_count": 52,
     "metadata": {},
     "output_type": "execute_result"
    }
   ],
   "source": [
    "data_final"
   ]
  }
 ],
 "metadata": {
  "kernelspec": {
   "display_name": "ironhack",
   "language": "python",
   "name": "ironhack"
  },
  "language_info": {
   "codemirror_mode": {
    "name": "ipython",
    "version": 3
   },
   "file_extension": ".py",
   "mimetype": "text/x-python",
   "name": "python",
   "nbconvert_exporter": "python",
   "pygments_lexer": "ipython3",
   "version": "3.8.5"
  }
 },
 "nbformat": 4,
 "nbformat_minor": 5
}
