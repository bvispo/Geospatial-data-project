{
 "cells": [
  {
   "cell_type": "code",
   "execution_count": 1,
   "id": "6cc70ec8",
   "metadata": {},
   "outputs": [],
   "source": [
    "from pymongo import MongoClient\n",
    "from pymongo import GEOSPHERE\n",
    "import src.geo_functions as gf"
   ]
  },
  {
   "cell_type": "code",
   "execution_count": 2,
   "id": "e1f5e198",
   "metadata": {},
   "outputs": [
    {
     "data": {
      "text/plain": [
       "Database(MongoClient(host=['localhost:27017'], document_class=dict, tz_aware=False, connect=True), 'geospatial')"
      ]
     },
     "execution_count": 2,
     "metadata": {},
     "output_type": "execute_result"
    }
   ],
   "source": [
    "client = MongoClient(\"localhost:27017\")\n",
    "db = client.get_database(\"geospatial\")\n",
    "db"
   ]
  },
  {
   "cell_type": "code",
   "execution_count": 3,
   "id": "d330ecc1",
   "metadata": {},
   "outputs": [],
   "source": [
    "lisbon = db.get_collection(\"lisbon\")\n",
    "london = db.get_collection(\"london\")\n",
    "madrid = db.get_collection(\"madrid\")"
   ]
  },
  {
   "cell_type": "code",
   "execution_count": null,
   "id": "bcb0c250",
   "metadata": {},
   "outputs": [],
   "source": [
    "# Creamos el  index 2dsphere desde pymongo\n",
    "#db.lisbon.create_index([(\"location\", GEOSPHERE)])\n",
    "#db.london.create_index([(\"location\", GEOSPHERE)])\n",
    "#db.madrid.create_index([(\"location\", GEOSPHERE)])"
   ]
  },
  {
   "cell_type": "markdown",
   "id": "a677e61f",
   "metadata": {},
   "source": [
    "GEOQUERIES : NEAR"
   ]
  },
  {
   "cell_type": "markdown",
   "id": "64081de1",
   "metadata": {},
   "source": [
    "# LONDON "
   ]
  },
  {
   "cell_type": "code",
   "execution_count": 4,
   "id": "6b0520f4",
   "metadata": {},
   "outputs": [],
   "source": [
    "london_ = gf.geocode(\"St Paul´s Cathedral, London\")"
   ]
  },
  {
   "cell_type": "code",
   "execution_count": 5,
   "id": "537de493",
   "metadata": {},
   "outputs": [
    {
     "data": {
      "text/plain": [
       "{'type': 'Point', 'coordinates': ['51.51421', '-0.05688']}"
      ]
     },
     "execution_count": 5,
     "metadata": {},
     "output_type": "execute_result"
    }
   ],
   "source": [
    "london_"
   ]
  },
  {
   "cell_type": "code",
   "execution_count": 6,
   "id": "11106657",
   "metadata": {},
   "outputs": [],
   "source": [
    "london_coord = gf.type_point([51.51421, -0.05688])"
   ]
  },
  {
   "cell_type": "code",
   "execution_count": 7,
   "id": "4473e291",
   "metadata": {},
   "outputs": [
    {
     "data": {
      "text/plain": [
       "{'type': 'Point', 'coordinates': [51.51421, -0.05688]}"
      ]
     },
     "execution_count": 7,
     "metadata": {},
     "output_type": "execute_result"
    }
   ],
   "source": [
    "london_coord"
   ]
  },
  {
   "cell_type": "code",
   "execution_count": 12,
   "id": "eb3c92e8",
   "metadata": {},
   "outputs": [],
   "source": [
    "# Km que quiero  caminar\n",
    "metros = 1000"
   ]
  },
  {
   "cell_type": "code",
   "execution_count": 13,
   "id": "80d2dcd2",
   "metadata": {},
   "outputs": [],
   "source": [
    "query = {\"location\": {\"$near\": {\"$geometry\": london_coord, \"$maxDistance\": metros}}}"
   ]
  },
  {
   "cell_type": "code",
   "execution_count": 16,
   "id": "d0a568ee",
   "metadata": {},
   "outputs": [],
   "source": [
    "london_query = list(london.find(query))"
   ]
  },
  {
   "cell_type": "code",
   "execution_count": 17,
   "id": "d07157ca",
   "metadata": {},
   "outputs": [
    {
     "data": {
      "text/plain": [
       "[{'_id': ObjectId('61902cdda80a1fd067e41923'),\n",
       "  'nombre': 'Shadwell London Overground Station',\n",
       "  'latitud': 51.51145248356203,\n",
       "  'longitud': -0.05667416171207461,\n",
       "  'location': {'type': 'Point',\n",
       "   'coordinates': [51.51145248356203, -0.05667416171207461]}},\n",
       " {'_id': ObjectId('61902cb1a80a1fd067e418b0'),\n",
       "  'nombre': 'LHT Urban Bar',\n",
       "  'latitud': 51.51925520009031,\n",
       "  'longitud': -0.0589987201191938,\n",
       "  'location': {'type': 'Point',\n",
       "   'coordinates': [51.51925520009031, -0.0589987201191938]}},\n",
       " {'_id': ObjectId('61902cdda80a1fd067e4191a'),\n",
       "  'nombre': 'Whitechapel Railway Station (ZLW)',\n",
       "  'latitud': 51.5195054401361,\n",
       "  'longitud': -0.0612187385559082,\n",
       "  'location': {'type': 'Point',\n",
       "   'coordinates': [51.5195054401361, -0.0612187385559082]}},\n",
       " {'_id': ObjectId('61902cdda80a1fd067e4191c'),\n",
       "  'nombre': 'Whitechapel London Underground and London Overground Station',\n",
       "  'latitud': 51.519477137040596,\n",
       "  'longitud': -0.06151677976888857,\n",
       "  'location': {'type': 'Point',\n",
       "   'coordinates': [51.519477137040596, -0.06151677976888857]}},\n",
       " {'_id': ObjectId('61902cb1a80a1fd067e418b9'),\n",
       "  'nombre': \"Billy Bunter's Snack Bar\",\n",
       "  'latitud': 51.520789,\n",
       "  'longitud': -0.051616,\n",
       "  'location': {'type': 'Point', 'coordinates': [51.520789, -0.051616]}}]"
      ]
     },
     "execution_count": 17,
     "metadata": {},
     "output_type": "execute_result"
    }
   ],
   "source": [
    "london_query"
   ]
  },
  {
   "cell_type": "code",
   "execution_count": null,
   "id": "8827b9e1",
   "metadata": {},
   "outputs": [],
   "source": []
  }
 ],
 "metadata": {
  "kernelspec": {
   "display_name": "ironhack",
   "language": "python",
   "name": "ironhack"
  },
  "language_info": {
   "codemirror_mode": {
    "name": "ipython",
    "version": 3
   },
   "file_extension": ".py",
   "mimetype": "text/x-python",
   "name": "python",
   "nbconvert_exporter": "python",
   "pygments_lexer": "ipython3",
   "version": "3.8.5"
  }
 },
 "nbformat": 4,
 "nbformat_minor": 5
}
